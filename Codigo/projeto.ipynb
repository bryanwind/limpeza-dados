{
 "cells": [
  {
   "cell_type": "code",
   "execution_count": 66,
   "metadata": {},
   "outputs": [],
   "source": [
    "import pandas as pd\n",
    "import numpy as np\n",
    "import matplotlib.pyplot as plt\n",
    "import seaborn as sns\n",
    "import re"
   ]
  },
  {
   "cell_type": "markdown",
   "metadata": {},
   "source": [
    "#### Este dataset engloba informações sobre reembolsos de despesas de senadores entre os anos de 2008 e 2022"
   ]
  },
  {
   "cell_type": "code",
   "execution_count": 67,
   "metadata": {},
   "outputs": [],
   "source": [
    "# Carregar o dataset usando ponto e vírgula como delimitador\n",
    "df = pd.read_csv('dataset_senadores.csv', sep=';')"
   ]
  },
  {
   "cell_type": "code",
   "execution_count": 68,
   "metadata": {},
   "outputs": [
    {
     "data": {
      "text/html": [
       "<div>\n",
       "<style scoped>\n",
       "    .dataframe tbody tr th:only-of-type {\n",
       "        vertical-align: middle;\n",
       "    }\n",
       "\n",
       "    .dataframe tbody tr th {\n",
       "        vertical-align: top;\n",
       "    }\n",
       "\n",
       "    .dataframe thead th {\n",
       "        text-align: right;\n",
       "    }\n",
       "</style>\n",
       "<table border=\"1\" class=\"dataframe\">\n",
       "  <thead>\n",
       "    <tr style=\"text-align: right;\">\n",
       "      <th></th>\n",
       "      <th>ANO</th>\n",
       "      <th>MES</th>\n",
       "      <th>SENADOR</th>\n",
       "      <th>TIPO_DESPESA</th>\n",
       "      <th>CNPJ_CPF</th>\n",
       "      <th>FORNECEDOR</th>\n",
       "      <th>DOCUMENTO</th>\n",
       "      <th>DATA</th>\n",
       "      <th>DETALHAMENTO</th>\n",
       "      <th>VALOR_REEMBOLSADO</th>\n",
       "      <th>COD_DOCUMENTO</th>\n",
       "    </tr>\n",
       "  </thead>\n",
       "  <tbody>\n",
       "    <tr>\n",
       "      <th>0</th>\n",
       "      <td>2022</td>\n",
       "      <td>1</td>\n",
       "      <td>NELSINHO TRAD</td>\n",
       "      <td>ALUGUEL DE IMÓVEIS PARA ESCRITÓRIO POLÍTICO, C...</td>\n",
       "      <td>465.789.351-34</td>\n",
       "      <td>FÁBIO MARCELO DE PAULI</td>\n",
       "      <td>41</td>\n",
       "      <td>2022-01-01</td>\n",
       "      <td>REFERENTE AO PAGAMENTO DO ALUGUEL NO MÊS DE JA...</td>\n",
       "      <td>3500.00</td>\n",
       "      <td>2173482</td>\n",
       "    </tr>\n",
       "    <tr>\n",
       "      <th>1</th>\n",
       "      <td>2022</td>\n",
       "      <td>1</td>\n",
       "      <td>ROSE DE FREITAS</td>\n",
       "      <td>ALUGUEL DE IMÓVEIS PARA ESCRITÓRIO POLÍTICO, C...</td>\n",
       "      <td>40.432.544/0001-47</td>\n",
       "      <td>CLARO S.A</td>\n",
       "      <td>5080033843422</td>\n",
       "      <td>2022-01-01</td>\n",
       "      <td>DESCONHECIDO</td>\n",
       "      <td>147.10</td>\n",
       "      <td>2174453</td>\n",
       "    </tr>\n",
       "    <tr>\n",
       "      <th>2</th>\n",
       "      <td>2022</td>\n",
       "      <td>1</td>\n",
       "      <td>DÁRIO BERGER</td>\n",
       "      <td>ALUGUEL DE IMÓVEIS PARA ESCRITÓRIO POLÍTICO, C...</td>\n",
       "      <td>02.558.157/0001-62</td>\n",
       "      <td>VIVO - TELEFONICA S.A.</td>\n",
       "      <td>14175407140</td>\n",
       "      <td>2022-01-01</td>\n",
       "      <td>DESCONHECIDO</td>\n",
       "      <td>164.98</td>\n",
       "      <td>2173788</td>\n",
       "    </tr>\n",
       "    <tr>\n",
       "      <th>3</th>\n",
       "      <td>2022</td>\n",
       "      <td>1</td>\n",
       "      <td>HUMBERTO COSTA</td>\n",
       "      <td>CONTRATAÇÃO DE CONSULTORIAS, ASSESSORIAS, PESQ...</td>\n",
       "      <td>43.382.036/0001-90</td>\n",
       "      <td>MAPEO SERVIÇOS DE INOVAÇÃO E TECNOLOGIA LTDA</td>\n",
       "      <td>00000093</td>\n",
       "      <td>2022-01-01</td>\n",
       "      <td>APOIO TÉCNICO EM TRATAMENTO DE DADOS E HOSPEDA...</td>\n",
       "      <td>1250.00</td>\n",
       "      <td>2174078</td>\n",
       "    </tr>\n",
       "    <tr>\n",
       "      <th>4</th>\n",
       "      <td>2022</td>\n",
       "      <td>1</td>\n",
       "      <td>MARCOS DO VAL</td>\n",
       "      <td>ALUGUEL DE IMÓVEIS PARA ESCRITÓRIO POLÍTICO, C...</td>\n",
       "      <td>31.710.825/0001-23</td>\n",
       "      <td>ATELIER LOCAÇÃO  PATRIMONIAL  LTDA</td>\n",
       "      <td>01/2022</td>\n",
       "      <td>2022-01-01</td>\n",
       "      <td>DESCONHECIDO</td>\n",
       "      <td>6500.00</td>\n",
       "      <td>2173024</td>\n",
       "    </tr>\n",
       "  </tbody>\n",
       "</table>\n",
       "</div>"
      ],
      "text/plain": [
       "    ANO  MES          SENADOR  \\\n",
       "0  2022    1    NELSINHO TRAD   \n",
       "1  2022    1  ROSE DE FREITAS   \n",
       "2  2022    1     DÁRIO BERGER   \n",
       "3  2022    1   HUMBERTO COSTA   \n",
       "4  2022    1    MARCOS DO VAL   \n",
       "\n",
       "                                        TIPO_DESPESA            CNPJ_CPF  \\\n",
       "0  ALUGUEL DE IMÓVEIS PARA ESCRITÓRIO POLÍTICO, C...      465.789.351-34   \n",
       "1  ALUGUEL DE IMÓVEIS PARA ESCRITÓRIO POLÍTICO, C...  40.432.544/0001-47   \n",
       "2  ALUGUEL DE IMÓVEIS PARA ESCRITÓRIO POLÍTICO, C...  02.558.157/0001-62   \n",
       "3  CONTRATAÇÃO DE CONSULTORIAS, ASSESSORIAS, PESQ...  43.382.036/0001-90   \n",
       "4  ALUGUEL DE IMÓVEIS PARA ESCRITÓRIO POLÍTICO, C...  31.710.825/0001-23   \n",
       "\n",
       "                                     FORNECEDOR      DOCUMENTO        DATA  \\\n",
       "0                        FÁBIO MARCELO DE PAULI             41  2022-01-01   \n",
       "1                                     CLARO S.A  5080033843422  2022-01-01   \n",
       "2                        VIVO - TELEFONICA S.A.    14175407140  2022-01-01   \n",
       "3  MAPEO SERVIÇOS DE INOVAÇÃO E TECNOLOGIA LTDA       00000093  2022-01-01   \n",
       "4            ATELIER LOCAÇÃO  PATRIMONIAL  LTDA        01/2022  2022-01-01   \n",
       "\n",
       "                                        DETALHAMENTO  VALOR_REEMBOLSADO  \\\n",
       "0  REFERENTE AO PAGAMENTO DO ALUGUEL NO MÊS DE JA...            3500.00   \n",
       "1                                       DESCONHECIDO             147.10   \n",
       "2                                       DESCONHECIDO             164.98   \n",
       "3  APOIO TÉCNICO EM TRATAMENTO DE DADOS E HOSPEDA...            1250.00   \n",
       "4                                       DESCONHECIDO            6500.00   \n",
       "\n",
       "   COD_DOCUMENTO  \n",
       "0        2173482  \n",
       "1        2174453  \n",
       "2        2173788  \n",
       "3        2174078  \n",
       "4        2173024  "
      ]
     },
     "execution_count": 68,
     "metadata": {},
     "output_type": "execute_result"
    }
   ],
   "source": [
    "df.head()"
   ]
  },
  {
   "cell_type": "code",
   "execution_count": 69,
   "metadata": {},
   "outputs": [
    {
     "name": "stdout",
     "output_type": "stream",
     "text": [
      "<class 'pandas.core.frame.DataFrame'>\n",
      "RangeIndex: 317961 entries, 0 to 317960\n",
      "Data columns (total 11 columns):\n",
      " #   Column             Non-Null Count   Dtype  \n",
      "---  ------             --------------   -----  \n",
      " 0   ANO                317961 non-null  int64  \n",
      " 1   MES                317961 non-null  int64  \n",
      " 2   SENADOR            317961 non-null  object \n",
      " 3   TIPO_DESPESA       317961 non-null  object \n",
      " 4   CNPJ_CPF           317961 non-null  object \n",
      " 5   FORNECEDOR         317961 non-null  object \n",
      " 6   DOCUMENTO          317958 non-null  object \n",
      " 7   DATA               317961 non-null  object \n",
      " 8   DETALHAMENTO       317961 non-null  object \n",
      " 9   VALOR_REEMBOLSADO  317961 non-null  float64\n",
      " 10  COD_DOCUMENTO      317961 non-null  int64  \n",
      "dtypes: float64(1), int64(3), object(7)\n",
      "memory usage: 26.7+ MB\n"
     ]
    },
    {
     "data": {
      "text/plain": [
       "(None,\n",
       "                  ANO            MES  VALOR_REEMBOLSADO  COD_DOCUMENTO\n",
       " count  317961.000000  317961.000000      317961.000000   3.179610e+05\n",
       " mean     2015.153915       6.644268        1019.058547   1.985928e+10\n",
       " std         3.746790       3.308163        2599.397652   1.987107e+11\n",
       " min      2008.000000       1.000000       -1500.000000   1.438800e+05\n",
       " 25%      2012.000000       4.000000         100.000000   6.211970e+05\n",
       " 50%      2015.000000       7.000000         283.480000   2.019630e+06\n",
       " 75%      2018.000000      10.000000        1000.000000   2.106125e+06\n",
       " max      2022.000000      12.000000      270000.000000   2.009031e+12)"
      ]
     },
     "execution_count": 69,
     "metadata": {},
     "output_type": "execute_result"
    }
   ],
   "source": [
    "# Exibir as informações gerais do dataset\n",
    "df.info(), df.describe()"
   ]
  },
  {
   "cell_type": "code",
   "execution_count": 70,
   "metadata": {},
   "outputs": [
    {
     "data": {
      "text/plain": [
       "ANO                  0\n",
       "MES                  0\n",
       "SENADOR              0\n",
       "TIPO_DESPESA         0\n",
       "CNPJ_CPF             0\n",
       "FORNECEDOR           0\n",
       "DOCUMENTO            3\n",
       "DATA                 0\n",
       "DETALHAMENTO         0\n",
       "VALOR_REEMBOLSADO    0\n",
       "COD_DOCUMENTO        0\n",
       "dtype: int64"
      ]
     },
     "execution_count": 70,
     "metadata": {},
     "output_type": "execute_result"
    }
   ],
   "source": [
    "# Verificar a quantidade de valores ausentes por coluna\n",
    "df.isnull().sum()"
   ]
  },
  {
   "cell_type": "code",
   "execution_count": 71,
   "metadata": {},
   "outputs": [
    {
     "name": "stdout",
     "output_type": "stream",
     "text": [
      "ANO                  0\n",
      "MES                  0\n",
      "SENADOR              0\n",
      "TIPO_DESPESA         0\n",
      "CNPJ_CPF             0\n",
      "FORNECEDOR           0\n",
      "DOCUMENTO            0\n",
      "DATA                 0\n",
      "DETALHAMENTO         0\n",
      "VALOR_REEMBOLSADO    0\n",
      "COD_DOCUMENTO        0\n",
      "dtype: int64\n"
     ]
    }
   ],
   "source": [
    "# 3 valores ausentes na coluna \"DOCUMENTO\"\n",
    "df = df.dropna(subset=['DOCUMENTO'])\n",
    "\n",
    "print(df.isnull().sum()) # Sem mais valores ausentes"
   ]
  },
  {
   "cell_type": "code",
   "execution_count": 72,
   "metadata": {},
   "outputs": [
    {
     "name": "stdout",
     "output_type": "stream",
     "text": [
      "Datas inválidas após conversão: 0\n"
     ]
    }
   ],
   "source": [
    "# Reconvertendo a coluna 'DATA' com tratamento de erros\n",
    "df['DATA'] = pd.to_datetime(df['DATA'], errors='coerce')\n",
    "\n",
    "# Verificar se houve problemas na conversão\n",
    "invalid_dates = df['DATA'].isnull().sum()\n",
    "print(\"Datas inválidas após conversão:\", invalid_dates)"
   ]
  },
  {
   "cell_type": "code",
   "execution_count": 73,
   "metadata": {},
   "outputs": [
    {
     "data": {
      "text/plain": [
       "CNPJ_CPF\n",
       "18    307181\n",
       "14      7628\n",
       "12      3144\n",
       "17         5\n",
       "Name: count, dtype: int64"
      ]
     },
     "execution_count": 73,
     "metadata": {},
     "output_type": "execute_result"
    }
   ],
   "source": [
    "# Verificar o tamanho dos valores na coluna 'CNPJ_CPF'\n",
    "df['CNPJ_CPF'].str.len().value_counts() # Existem numeros com 14 e 18 caracteres, incomparáveis com CNPJ e CPF"
   ]
  },
  {
   "cell_type": "code",
   "execution_count": 74,
   "metadata": {},
   "outputs": [
    {
     "name": "stdout",
     "output_type": "stream",
     "text": [
      "Valores com formatos incorretos de CNPJ/CPF:\n",
      " ['0.030.659/7003-38' '0.420.605/0008-08' '7.388.199/7000-10'\n",
      " '0.240.900/0000-25' '0.478.056/5000-43' 'DESCONHECIDO']\n"
     ]
    }
   ],
   "source": [
    "# Expressões regulares para CNPJ e CPF\n",
    "cnpj_pattern = re.compile(r\"^\\d{2}\\.\\d{3}\\.\\d{3}/\\d{4}-\\d{2}$\")\n",
    "cpf_pattern = re.compile(r\"^\\d{3}\\.\\d{3}\\.\\d{3}-\\d{2}$\")\n",
    "\n",
    "# Identificar valores que NÃO seguem nenhum dos padrões\n",
    "invalid_cnpj_cpf = df[\n",
    "    ~df['CNPJ_CPF'].str.match(cnpj_pattern) & \n",
    "    ~df['CNPJ_CPF'].str.match(cpf_pattern)\n",
    "]\n",
    "\n",
    "# Exibir alguns exemplos desses valores\n",
    "print(\"Valores com formatos incorretos de CNPJ/CPF:\\n\", invalid_cnpj_cpf['CNPJ_CPF'].unique()) # Há CNPJs e CPFs com formatos incorretos"
   ]
  },
  {
   "cell_type": "code",
   "execution_count": 75,
   "metadata": {},
   "outputs": [
    {
     "name": "stdout",
     "output_type": "stream",
     "text": [
      "Valores ainda incorretos após limpeza e formatação:\n",
      " [nan]\n"
     ]
    }
   ],
   "source": [
    "# Função para limpar e formatar CPF/CNPJ\n",
    "def formatar_cnpj_cpf(valor):\n",
    "    # Remover pontos, barras e hífens\n",
    "    valor = re.sub(r'[^0-9]', '', str(valor))  # Remove qualquer coisa que não seja número\n",
    "    \n",
    "    if len(valor) == 11:  # CPF\n",
    "        # Verificar se o CPF é válido (apenas para consistência de tamanho)\n",
    "        return f\"{valor[:3]}.{valor[3:6]}.{valor[6:9]}-{valor[9:]}\"\n",
    "    \n",
    "    elif len(valor) == 14:  # CNPJ\n",
    "        # Verificar se o CNPJ é válido (apenas para consistência de tamanho)\n",
    "        return f\"{valor[:2]}.{valor[2:5]}.{valor[5:8]}/{valor[8:12]}-{valor[12:]}\"\n",
    "    \n",
    "    return np.nan  # Caso não seja nem CPF nem CNPJ, retorna NaN (inconsistente)\n",
    "\n",
    "# Aplicar a função para limpar os dados\n",
    "df['CNPJ_CPF'] = df['CNPJ_CPF'].apply(formatar_cnpj_cpf)\n",
    "\n",
    "# Identificar valores que ainda são inválidos (nao são nem CNPJ nem CPF)\n",
    "invalid_cnpj_cpf_after_clean = df[df['CNPJ_CPF'].isna()]\n",
    "\n",
    "# Exibir valores ainda incorretos\n",
    "print(\"Valores ainda incorretos após limpeza e formatação:\\n\", invalid_cnpj_cpf_after_clean['CNPJ_CPF'].unique())"
   ]
  },
  {
   "cell_type": "code",
   "execution_count": 76,
   "metadata": {},
   "outputs": [
    {
     "name": "stderr",
     "output_type": "stream",
     "text": [
      "C:\\Users\\higor\\AppData\\Local\\Temp\\ipykernel_5124\\853280785.py:1: FutureWarning: A value is trying to be set on a copy of a DataFrame or Series through chained assignment using an inplace method.\n",
      "The behavior will change in pandas 3.0. This inplace method will never work because the intermediate object on which we are setting values always behaves as a copy.\n",
      "\n",
      "For example, when doing 'df[col].method(value, inplace=True)', try using 'df.method({col: value}, inplace=True)' or df[col] = df[col].method(value) instead, to perform the operation inplace on the original object.\n",
      "\n",
      "\n",
      "  df['CNPJ_CPF'].fillna('DESCONHECIDO', inplace=True) # Preencher valores nulos com 'DESCONHECIDO'\n"
     ]
    }
   ],
   "source": [
    "df['CNPJ_CPF'].fillna('DESCONHECIDO', inplace=True) # Preencher valores nulos com 'DESCONHECIDO'"
   ]
  },
  {
   "cell_type": "code",
   "execution_count": 77,
   "metadata": {},
   "outputs": [],
   "source": [
    "# Padronizar textos e remover espaços extras\n",
    "text_columns = ['SENADOR', 'TIPO_DESPESA', 'FORNECEDOR', 'DETALHAMENTO']\n",
    "df[text_columns] = df[text_columns].apply(lambda col: col.str.strip().str.upper())\n"
   ]
  },
  {
   "cell_type": "code",
   "execution_count": 78,
   "metadata": {},
   "outputs": [
    {
     "name": "stdout",
     "output_type": "stream",
     "text": [
      "<class 'pandas.core.frame.DataFrame'>\n",
      "Index: 317958 entries, 0 to 317960\n",
      "Data columns (total 11 columns):\n",
      " #   Column             Non-Null Count   Dtype         \n",
      "---  ------             --------------   -----         \n",
      " 0   ANO                317958 non-null  int64         \n",
      " 1   MES                317958 non-null  int64         \n",
      " 2   SENADOR            317958 non-null  object        \n",
      " 3   TIPO_DESPESA       317958 non-null  object        \n",
      " 4   CNPJ_CPF           317958 non-null  object        \n",
      " 5   FORNECEDOR         317958 non-null  object        \n",
      " 6   DOCUMENTO          317958 non-null  object        \n",
      " 7   DATA               317958 non-null  datetime64[ns]\n",
      " 8   DETALHAMENTO       317958 non-null  object        \n",
      " 9   VALOR_REEMBOLSADO  317958 non-null  float64       \n",
      " 10  COD_DOCUMENTO      317958 non-null  int64         \n",
      "dtypes: datetime64[ns](1), float64(1), int64(3), object(6)\n",
      "memory usage: 29.1+ MB\n"
     ]
    },
    {
     "data": {
      "text/plain": [
       "(None,\n",
       "                  ANO            MES                           DATA  \\\n",
       " count  317958.000000  317958.000000                         317958   \n",
       " mean     2015.153945       6.644283  2015-08-29 22:51:39.533901056   \n",
       " min      2008.000000       1.000000            2008-02-01 00:00:00   \n",
       " 25%      2012.000000       4.000000            2012-07-18 00:00:00   \n",
       " 50%      2015.000000       7.000000            2015-08-03 00:00:00   \n",
       " 75%      2018.000000      10.000000            2018-07-05 00:00:00   \n",
       " max      2022.000000      12.000000            2022-12-31 00:00:00   \n",
       " std         3.746794       3.308168                            NaN   \n",
       " \n",
       "        VALOR_REEMBOLSADO  COD_DOCUMENTO  \n",
       " count      317958.000000   3.179580e+05  \n",
       " mean         1019.068033   1.985947e+10  \n",
       " min         -1500.000000   1.438800e+05  \n",
       " 25%           100.000000   6.211982e+05  \n",
       " 50%           283.500000   2.019632e+06  \n",
       " 75%          1000.000000   2.106126e+06  \n",
       " max        270000.000000   2.009031e+12  \n",
       " std          2599.408080   1.987116e+11  )"
      ]
     },
     "execution_count": 78,
     "metadata": {},
     "output_type": "execute_result"
    }
   ],
   "source": [
    "df.info(), df.describe()"
   ]
  },
  {
   "cell_type": "code",
   "execution_count": 79,
   "metadata": {},
   "outputs": [
    {
     "name": "stdout",
     "output_type": "stream",
     "text": [
      "Quantidade de registros duplicados: 0\n"
     ]
    }
   ],
   "source": [
    "# Verificar duplicados\n",
    "duplicados = df.duplicated()\n",
    "print(\"Quantidade de registros duplicados:\", duplicados.sum())\n",
    "\n",
    "# Exibir alguns exemplos, se houver\n",
    "if duplicados.sum() > 0:\n",
    "    display(df[duplicados].head())\n",
    "\n",
    "# Remover duplicados, mantendo o primeiro registro\n",
    "df = df.drop_duplicates()\n"
   ]
  },
  {
   "cell_type": "code",
   "execution_count": 80,
   "metadata": {},
   "outputs": [
    {
     "name": "stdout",
     "output_type": "stream",
     "text": [
      "Quantidade de valores negativos em VALOR_REEMBOLSADO: 3\n"
     ]
    },
    {
     "data": {
      "text/html": [
       "<div>\n",
       "<style scoped>\n",
       "    .dataframe tbody tr th:only-of-type {\n",
       "        vertical-align: middle;\n",
       "    }\n",
       "\n",
       "    .dataframe tbody tr th {\n",
       "        vertical-align: top;\n",
       "    }\n",
       "\n",
       "    .dataframe thead th {\n",
       "        text-align: right;\n",
       "    }\n",
       "</style>\n",
       "<table border=\"1\" class=\"dataframe\">\n",
       "  <thead>\n",
       "    <tr style=\"text-align: right;\">\n",
       "      <th></th>\n",
       "      <th>ANO</th>\n",
       "      <th>MES</th>\n",
       "      <th>SENADOR</th>\n",
       "      <th>TIPO_DESPESA</th>\n",
       "      <th>CNPJ_CPF</th>\n",
       "      <th>FORNECEDOR</th>\n",
       "      <th>DOCUMENTO</th>\n",
       "      <th>DATA</th>\n",
       "      <th>DETALHAMENTO</th>\n",
       "      <th>VALOR_REEMBOLSADO</th>\n",
       "      <th>COD_DOCUMENTO</th>\n",
       "    </tr>\n",
       "  </thead>\n",
       "  <tbody>\n",
       "    <tr>\n",
       "      <th>104445</th>\n",
       "      <td>2017</td>\n",
       "      <td>5</td>\n",
       "      <td>DÁRIO BERGER</td>\n",
       "      <td>CONTRATAÇÃO DE CONSULTORIAS, ASSESSORIAS, PESQ...</td>\n",
       "      <td>73.228.876/0001-63</td>\n",
       "      <td>TV CLIPAGEM LTDA. EPP.</td>\n",
       "      <td>001661</td>\n",
       "      <td>2017-06-02</td>\n",
       "      <td>DESPESA COM MONITORAMENTO DE INFORMAÇÃO JORNAL...</td>\n",
       "      <td>-243.4</td>\n",
       "      <td>2068568</td>\n",
       "    </tr>\n",
       "    <tr>\n",
       "      <th>148529</th>\n",
       "      <td>2015</td>\n",
       "      <td>1</td>\n",
       "      <td>RANDOLFE RODRIGUES</td>\n",
       "      <td>PASSAGENS AÉREAS, AQUÁTICAS E TERRESTRES NACIO...</td>\n",
       "      <td>02.012.862/0001-60</td>\n",
       "      <td>TAM LINHAS AEREAS S/A</td>\n",
       "      <td>9572104373256</td>\n",
       "      <td>2015-01-28</td>\n",
       "      <td>9572100929351 - R$ 1.298,93 (1º BILHETE EMITID...</td>\n",
       "      <td>-9.0</td>\n",
       "      <td>2000358</td>\n",
       "    </tr>\n",
       "    <tr>\n",
       "      <th>148873</th>\n",
       "      <td>2015</td>\n",
       "      <td>2</td>\n",
       "      <td>GLADSON CAMELI</td>\n",
       "      <td>ALUGUEL DE IMÓVEIS PARA ESCRITÓRIO POLÍTICO, C...</td>\n",
       "      <td>63.600.449/0001-00</td>\n",
       "      <td>ARRAS ADM. DE BENS IMÓVEIS LIMPEZA E CONSERVAÇ...</td>\n",
       "      <td>DESCONHECIDO</td>\n",
       "      <td>2015-01-15</td>\n",
       "      <td>CONTRATO DE LOCAÇÃO DE IMÓVEL COMERCIAL DO ESC...</td>\n",
       "      <td>-1500.0</td>\n",
       "      <td>2001228</td>\n",
       "    </tr>\n",
       "  </tbody>\n",
       "</table>\n",
       "</div>"
      ],
      "text/plain": [
       "         ANO  MES             SENADOR  \\\n",
       "104445  2017    5        DÁRIO BERGER   \n",
       "148529  2015    1  RANDOLFE RODRIGUES   \n",
       "148873  2015    2      GLADSON CAMELI   \n",
       "\n",
       "                                             TIPO_DESPESA            CNPJ_CPF  \\\n",
       "104445  CONTRATAÇÃO DE CONSULTORIAS, ASSESSORIAS, PESQ...  73.228.876/0001-63   \n",
       "148529  PASSAGENS AÉREAS, AQUÁTICAS E TERRESTRES NACIO...  02.012.862/0001-60   \n",
       "148873  ALUGUEL DE IMÓVEIS PARA ESCRITÓRIO POLÍTICO, C...  63.600.449/0001-00   \n",
       "\n",
       "                                               FORNECEDOR      DOCUMENTO  \\\n",
       "104445                             TV CLIPAGEM LTDA. EPP.         001661   \n",
       "148529                              TAM LINHAS AEREAS S/A  9572104373256   \n",
       "148873  ARRAS ADM. DE BENS IMÓVEIS LIMPEZA E CONSERVAÇ...   DESCONHECIDO   \n",
       "\n",
       "             DATA                                       DETALHAMENTO  \\\n",
       "104445 2017-06-02  DESPESA COM MONITORAMENTO DE INFORMAÇÃO JORNAL...   \n",
       "148529 2015-01-28  9572100929351 - R$ 1.298,93 (1º BILHETE EMITID...   \n",
       "148873 2015-01-15  CONTRATO DE LOCAÇÃO DE IMÓVEL COMERCIAL DO ESC...   \n",
       "\n",
       "        VALOR_REEMBOLSADO  COD_DOCUMENTO  \n",
       "104445             -243.4        2068568  \n",
       "148529               -9.0        2000358  \n",
       "148873            -1500.0        2001228  "
      ]
     },
     "metadata": {},
     "output_type": "display_data"
    }
   ],
   "source": [
    "# Verificar a quantidade de valores negativos\n",
    "valores_negativos = df[df['VALOR_REEMBOLSADO'] < 0]\n",
    "print(\"Quantidade de valores negativos em VALOR_REEMBOLSADO:\", len(valores_negativos))\n",
    "\n",
    "# Exibir exemplos para entender o contexto\n",
    "display(valores_negativos.head())\n"
   ]
  },
  {
   "cell_type": "code",
   "execution_count": 81,
   "metadata": {},
   "outputs": [],
   "source": [
    "# Existem apenas 3 valores negativos, que parecem ser erros de digitação, podem ser removidos\n",
    "df = df[df['VALOR_REEMBOLSADO'] >= 0]"
   ]
  },
  {
   "cell_type": "code",
   "execution_count": 82,
   "metadata": {},
   "outputs": [
    {
     "name": "stdout",
     "output_type": "stream",
     "text": [
      "Códigos de documento são únicos? True\n",
      "Quantidade de valores nulos em COD_DOCUMENTO: 0\n"
     ]
    }
   ],
   "source": [
    "# Verificar unicidade\n",
    "cod_unicos = df['COD_DOCUMENTO'].is_unique\n",
    "print(\"Códigos de documento são únicos?\", cod_unicos)\n",
    "\n",
    "# Verificar se há valores ausentes\n",
    "cod_nulos = df['COD_DOCUMENTO'].isnull().sum()\n",
    "print(\"Quantidade de valores nulos em COD_DOCUMENTO:\", cod_nulos) # Não há limpeza a ser feita\n"
   ]
  },
  {
   "cell_type": "code",
   "execution_count": 83,
   "metadata": {},
   "outputs": [
    {
     "name": "stdout",
     "output_type": "stream",
     "text": [
      "Tipos de Despesa: ['ALUGUEL DE IMÓVEIS PARA ESCRITÓRIO POLÍTICO, COMPREENDENDO DESPESAS CONCERNENTES A ELES.'\n",
      " 'CONTRATAÇÃO DE CONSULTORIAS, ASSESSORIAS, PESQUISAS, TRABALHOS TÉCNICOS E OUTROS SERVIÇOS DE APOIO AO EXERCÍCIO DO MANDATO PARLAMENTAR'\n",
      " 'PASSAGENS AÉREAS, AQUÁTICAS E TERRESTRES NACIONAIS'\n",
      " 'AQUISIÇÃO DE MATERIAL DE CONSUMO PARA USO NO ESCRITÓRIO POLÍTICO, INCLUSIVE AQUISIÇÃO OU LOCAÇÃO DE SOFTWARE, DESPESAS POSTAIS, AQUISIÇÃO DE PUBLICAÇÕES, LOCAÇÃO DE MÓVEIS E DE EQUIPAMENTOS.'\n",
      " 'LOCOMOÇÃO, HOSPEDAGEM, ALIMENTAÇÃO, COMBUSTÍVEIS E LUBRIFICANTES'\n",
      " 'DIVULGAÇÃO DA ATIVIDADE PARLAMENTAR' 'SERVIÇOS DE SEGURANÇA PRIVADA']\n"
     ]
    },
    {
     "data": {
      "text/plain": [
       "TIPO_DESPESA\n",
       "LOCOMOÇÃO, HOSPEDAGEM, ALIMENTAÇÃO, COMBUSTÍVEIS E LUBRIFICANTES                                                                                                                                  133063\n",
       "PASSAGENS AÉREAS, AQUÁTICAS E TERRESTRES NACIONAIS                                                                                                                                                 68760\n",
       "ALUGUEL DE IMÓVEIS PARA ESCRITÓRIO POLÍTICO, COMPREENDENDO DESPESAS CONCERNENTES A ELES.                                                                                                           62624\n",
       "AQUISIÇÃO DE MATERIAL DE CONSUMO PARA USO NO ESCRITÓRIO POLÍTICO, INCLUSIVE AQUISIÇÃO OU LOCAÇÃO DE SOFTWARE, DESPESAS POSTAIS, AQUISIÇÃO DE PUBLICAÇÕES, LOCAÇÃO DE MÓVEIS E DE EQUIPAMENTOS.     25838\n",
       "DIVULGAÇÃO DA ATIVIDADE PARLAMENTAR                                                                                                                                                                13709\n",
       "CONTRATAÇÃO DE CONSULTORIAS, ASSESSORIAS, PESQUISAS, TRABALHOS TÉCNICOS E OUTROS SERVIÇOS DE APOIO AO EXERCÍCIO DO MANDATO PARLAMENTAR                                                             13017\n",
       "SERVIÇOS DE SEGURANÇA PRIVADA                                                                                                                                                                        944\n",
       "Name: count, dtype: int64"
      ]
     },
     "execution_count": 83,
     "metadata": {},
     "output_type": "execute_result"
    }
   ],
   "source": [
    "# Verificar valores únicos\n",
    "tipos_despesas = df['TIPO_DESPESA'].unique()\n",
    "print(\"Tipos de Despesa:\", tipos_despesas)\n",
    "\n",
    "# Contagem de cada categoria\n",
    "df['TIPO_DESPESA'].value_counts()\n"
   ]
  },
  {
   "cell_type": "code",
   "execution_count": 84,
   "metadata": {},
   "outputs": [
    {
     "name": "stdout",
     "output_type": "stream",
     "text": [
      "Quantidade de registros após tratamento: 317955\n",
      "Somatório de VALOR_REEMBOLSADO: 324022586.0200001\n"
     ]
    }
   ],
   "source": [
    "# Verificar quantidade total de registros após tratamento\n",
    "print(\"Quantidade de registros após tratamento:\", len(df))\n",
    "\n",
    "# Verificar somatório de VALOR_REEMBOLSADO\n",
    "print(\"Somatório de VALOR_REEMBOLSADO:\", df['VALOR_REEMBOLSADO'].sum())\n"
   ]
  },
  {
   "cell_type": "code",
   "execution_count": 85,
   "metadata": {},
   "outputs": [
    {
     "name": "stdout",
     "output_type": "stream",
     "text": [
      "Empty DataFrame\n",
      "Columns: [ANO, MES, SENADOR, TIPO_DESPESA, CNPJ_CPF, FORNECEDOR, DOCUMENTO, DATA, DETALHAMENTO, VALOR_REEMBOLSADO, COD_DOCUMENTO]\n",
      "Index: []\n"
     ]
    }
   ],
   "source": [
    "# Exibir registros com valores negativos\n",
    "negativos = df[df['VALOR_REEMBOLSADO'] < 0]\n",
    "print(negativos)\n",
    "\n",
    "# Opção 1: Converter para valores absolutos (caso sejam estornos)\n",
    "df['VALOR_REEMBOLSADO'] = df['VALOR_REEMBOLSADO'].abs()\n",
    "\n",
    "# Opção 2: Substituir valores negativos por zero\n",
    "df.loc[df['VALOR_REEMBOLSADO'] < 0, 'VALOR_REEMBOLSADO'] = 0\n"
   ]
  }
 ],
 "metadata": {
  "kernelspec": {
   "display_name": ".venv",
   "language": "python",
   "name": "python3"
  },
  "language_info": {
   "codemirror_mode": {
    "name": "ipython",
    "version": 3
   },
   "file_extension": ".py",
   "mimetype": "text/x-python",
   "name": "python",
   "nbconvert_exporter": "python",
   "pygments_lexer": "ipython3",
   "version": "3.9.6"
  }
 },
 "nbformat": 4,
 "nbformat_minor": 2
}
