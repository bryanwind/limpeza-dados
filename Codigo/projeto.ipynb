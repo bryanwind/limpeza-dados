{
 "cells": [
  {
   "cell_type": "code",
   "execution_count": 3,
   "metadata": {},
   "outputs": [],
   "source": [
    "import pandas as pd\n",
    "import numpy as np\n",
    "import matplotlib.pyplot as plt\n",
    "import seaborn as sns"
   ]
  },
  {
   "cell_type": "code",
   "execution_count": null,
   "metadata": {},
   "outputs": [],
   "source": [
    "# Carregar o dataset usando ponto e vírgula como delimitador\n",
    "df = pd.read_csv('dataset_senadores.csv', sep=';')"
   ]
  },
  {
   "cell_type": "code",
   "execution_count": 8,
   "metadata": {},
   "outputs": [
    {
     "name": "stdout",
     "output_type": "stream",
     "text": [
      "<class 'pandas.core.frame.DataFrame'>\n",
      "RangeIndex: 317961 entries, 0 to 317960\n",
      "Data columns (total 11 columns):\n",
      " #   Column             Non-Null Count   Dtype  \n",
      "---  ------             --------------   -----  \n",
      " 0   ANO                317961 non-null  int64  \n",
      " 1   MES                317961 non-null  int64  \n",
      " 2   SENADOR            317961 non-null  object \n",
      " 3   TIPO_DESPESA       317961 non-null  object \n",
      " 4   CNPJ_CPF           317961 non-null  object \n",
      " 5   FORNECEDOR         317961 non-null  object \n",
      " 6   DOCUMENTO          317958 non-null  object \n",
      " 7   DATA               317961 non-null  object \n",
      " 8   DETALHAMENTO       317961 non-null  object \n",
      " 9   VALOR_REEMBOLSADO  317961 non-null  float64\n",
      " 10  COD_DOCUMENTO      317961 non-null  int64  \n",
      "dtypes: float64(1), int64(3), object(7)\n",
      "memory usage: 26.7+ MB\n"
     ]
    },
    {
     "data": {
      "text/plain": [
       "(None,\n",
       "                  ANO            MES  VALOR_REEMBOLSADO  COD_DOCUMENTO\n",
       " count  317961.000000  317961.000000      317961.000000   3.179610e+05\n",
       " mean     2015.153915       6.644268        1019.058547   1.985928e+10\n",
       " std         3.746790       3.308163        2599.397652   1.987107e+11\n",
       " min      2008.000000       1.000000       -1500.000000   1.438800e+05\n",
       " 25%      2012.000000       4.000000         100.000000   6.211970e+05\n",
       " 50%      2015.000000       7.000000         283.480000   2.019630e+06\n",
       " 75%      2018.000000      10.000000        1000.000000   2.106125e+06\n",
       " max      2022.000000      12.000000      270000.000000   2.009031e+12)"
      ]
     },
     "execution_count": 8,
     "metadata": {},
     "output_type": "execute_result"
    }
   ],
   "source": [
    "# Exibir as informações gerais do dataset\n",
    "df.info(), df.describe()"
   ]
  },
  {
   "cell_type": "code",
   "execution_count": null,
   "metadata": {},
   "outputs": [
    {
     "data": {
      "text/plain": [
       "ANO                  0\n",
       "MES                  0\n",
       "SENADOR              0\n",
       "TIPO_DESPESA         0\n",
       "CNPJ_CPF             0\n",
       "FORNECEDOR           0\n",
       "DOCUMENTO            3\n",
       "DATA                 0\n",
       "DETALHAMENTO         0\n",
       "VALOR_REEMBOLSADO    0\n",
       "COD_DOCUMENTO        0\n",
       "dtype: int64"
      ]
     },
     "execution_count": 9,
     "metadata": {},
     "output_type": "execute_result"
    }
   ],
   "source": [
    "# Verificar a quantidade de valores ausentes por coluna\n",
    "df.isnull().sum()"
   ]
  },
  {
   "cell_type": "code",
   "execution_count": null,
   "metadata": {},
   "outputs": [
    {
     "name": "stdout",
     "output_type": "stream",
     "text": [
      "ANO                  0\n",
      "MES                  0\n",
      "SENADOR              0\n",
      "TIPO_DESPESA         0\n",
      "CNPJ_CPF             0\n",
      "FORNECEDOR           0\n",
      "DOCUMENTO            0\n",
      "DATA                 0\n",
      "DETALHAMENTO         0\n",
      "VALOR_REEMBOLSADO    0\n",
      "COD_DOCUMENTO        0\n",
      "dtype: int64\n"
     ]
    }
   ],
   "source": [
    "# 3 valores ausentes na coluna \"DOCUMENTO\"\n",
    "df = df.dropna(subset=['DOCUMENTO'])\n",
    "\n",
    "print(df.isnull().sum()) # Sem mais valores ausentes"
   ]
  },
  {
   "cell_type": "code",
   "execution_count": null,
   "metadata": {},
   "outputs": [],
   "source": []
  }
 ],
 "metadata": {
  "kernelspec": {
   "display_name": ".venv",
   "language": "python",
   "name": "python3"
  },
  "language_info": {
   "codemirror_mode": {
    "name": "ipython",
    "version": 3
   },
   "file_extension": ".py",
   "mimetype": "text/x-python",
   "name": "python",
   "nbconvert_exporter": "python",
   "pygments_lexer": "ipython3",
   "version": "3.9.6"
  }
 },
 "nbformat": 4,
 "nbformat_minor": 2
}
